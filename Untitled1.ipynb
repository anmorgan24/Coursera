{
 "cells": [
  {
   "cell_type": "code",
   "execution_count": null,
   "id": "4064c3a5",
   "metadata": {},
   "outputs": [],
   "source": [
    "import numpy as np\n",
    "import pandas as pd\n",
    "import seaborn as sns\n",
    "import matplotlib.pyplot as plt\n",
    "import difflib\n",
    "from sklearn.feature_extraction.text import TfidfVectorizer\n",
    "from sklearn.metrics.pairwise import cosine_similarity"
   ]
  },
  {
   "cell_type": "code",
   "execution_count": null,
   "id": "05db123b",
   "metadata": {},
   "outputs": [],
   "source": [
    "movie_data = pd.read_csv('/content/jmovies.csv')"
   ]
  },
  {
   "cell_type": "code",
   "execution_count": null,
   "id": "8a11984c",
   "metadata": {},
   "outputs": [],
   "source": [
    "selected_features=['genres','keywords','tagline','cast','director']\n",
    "print(selected_features)"
   ]
  },
  {
   "cell_type": "code",
   "execution_count": null,
   "id": "a6a52b10",
   "metadata": {},
   "outputs": [],
   "source": [
    "selected_features=['genres','keywords','tagline','cast','director']\n",
    "for feature in selected_features:\n",
    "    movie_data[feature] = movie_data[feature].fillna('')"
   ]
  },
  {
   "cell_type": "code",
   "execution_count": null,
   "id": "76351370",
   "metadata": {},
   "outputs": [],
   "source": [
    "vectorizer = TfidfVectorizer()\n",
    "feature_vectors = vectorizer.fit_transform(combined_features)"
   ]
  },
  {
   "cell_type": "code",
   "execution_count": null,
   "id": "3e22e59b",
   "metadata": {},
   "outputs": [],
   "source": [
    "combined_features = movie_data['genres']+' '+movie_data['keywords'] \\\n",
    "+' '+movie_data['tagline']+' '+movie_data['cast'] \\\n",
    "+' '+movie_data['director']"
   ]
  },
  {
   "cell_type": "code",
   "execution_count": null,
   "id": "5e872b2b",
   "metadata": {},
   "outputs": [],
   "source": []
  },
  {
   "cell_type": "code",
   "execution_count": null,
   "id": "7e0fa181",
   "metadata": {},
   "outputs": [],
   "source": [
    "movie_data[['genres','keywords',\n",
    "            'tagline','cast','director']].fillna('')"
   ]
  },
  {
   "cell_type": "code",
   "execution_count": null,
   "id": "d7d81945",
   "metadata": {},
   "outputs": [],
   "source": [
    "similarity = cosine_similarity(feature_vectors)\n",
    "print(similarity)\n",
    "print(similarity.shape)"
   ]
  },
  {
   "cell_type": "code",
   "execution_count": null,
   "id": "9b669d69",
   "metadata": {},
   "outputs": [],
   "source": [
    "list_of_all_titles = movie_data['title'].tolist()\n",
    "print(list_of_all_titles)"
   ]
  },
  {
   "cell_type": "code",
   "execution_count": null,
   "id": "b343efac",
   "metadata": {},
   "outputs": [],
   "source": []
  },
  {
   "cell_type": "code",
   "execution_count": null,
   "id": "318b6a41",
   "metadata": {},
   "outputs": [],
   "source": [
    "list_of_all_titles = movie_data['title'].tolist()\n",
    "print(list_of_all_titles)"
   ]
  },
  {
   "cell_type": "code",
   "execution_count": null,
   "id": "349448c0",
   "metadata": {},
   "outputs": [],
   "source": []
  },
  {
   "cell_type": "code",
   "execution_count": null,
   "id": "b7a8a0d1",
   "metadata": {},
   "outputs": [],
   "source": [
    "find_close_match = difflib.get_close_matches(movie_name, \n",
    "                                             list_of_all_titles)\n",
    "print(find_close_match)"
   ]
  },
  {
   "cell_type": "code",
   "execution_count": null,
   "id": "a19f83f6",
   "metadata": {},
   "outputs": [],
   "source": []
  },
  {
   "cell_type": "code",
   "execution_count": null,
   "id": "eb120365",
   "metadata": {},
   "outputs": [],
   "source": [
    "similarity_score = list(enumerate(similarity[index_of_the_movie]))\n",
    "print(similarity_score)"
   ]
  },
  {
   "cell_type": "code",
   "execution_count": null,
   "id": "15b2bdef",
   "metadata": {},
   "outputs": [],
   "source": [
    "close_match = find_close_match[0]\n",
    "print(close_match)"
   ]
  },
  {
   "cell_type": "code",
   "execution_count": null,
   "id": "c1ffbf64",
   "metadata": {},
   "outputs": [],
   "source": [
    "index_of_the_movie = movie_data[movie_data.title == close_match]['index'].values[0]\n",
    "print(index_of_the_movie)"
   ]
  },
  {
   "cell_type": "code",
   "execution_count": null,
   "id": "9331a3ad",
   "metadata": {},
   "outputs": [],
   "source": [
    "sorted_similar_movies = sorted(similarity_score, key = lambda x:x[1], reverse = True)\n",
    "print(sorted_similar_movies)"
   ]
  },
  {
   "cell_type": "code",
   "execution_count": null,
   "id": "d9df4cd3",
   "metadata": {},
   "outputs": [],
   "source": [
    "print('Movies suggested for you : \\n')\n",
    "\n",
    "i = 1\n",
    "\n",
    "for movie in sorted_similar_movies:\n",
    "    index = movie[0]\n",
    "    title_from_index = movies_data[movies_data.index==index]['title'].values[0]\n",
    "    if (i<30):\n",
    "        print(i, '.',title_from_index)\n",
    "        i+=1"
   ]
  },
  {
   "cell_type": "code",
   "execution_count": null,
   "id": "1a0f4d62",
   "metadata": {},
   "outputs": [],
   "source": [
    "mask_df = movie_data[\"director\"].value_counts().head(10)\n",
    "fig1 = plt.figure(figsize=(12, 10))\n",
    "plt.bar(x = mask_df.index, height=mask_df, color=\"sienna\")\n",
    "plt.xlabel(\"director\")\n",
    "plt.ylabel(\"budget\")\n",
    "plt. title(\"Budget of each director per movie\")\n",
    "plt.xticks(rotation=45)"
   ]
  },
  {
   "cell_type": "code",
   "execution_count": null,
   "id": "23ecf4d2",
   "metadata": {},
   "outputs": [],
   "source": [
    "fig2 = plt.figure(figsize=(12, 10))\n",
    "sns.histplot(movie_data[\"budget\"], color=\"darkslategrey\", bins=50)\n",
    "plt.title(\"Budget of Movie\");"
   ]
  },
  {
   "cell_type": "code",
   "execution_count": null,
   "id": "7383b7d5",
   "metadata": {},
   "outputs": [],
   "source": []
  },
  {
   "cell_type": "code",
   "execution_count": null,
   "id": "d316b5a6",
   "metadata": {},
   "outputs": [],
   "source": [
    "from comet_ml import Experiment\n",
    "\n",
    "# Create an experiment with your API key\n",
    "\n",
    "experiment = Experiment(\n",
    "api_key=\"xGZbEEC8bB2VnpxWFcWXd3BI3\",\n",
    "project_name=\"Recommendation system\",\n",
    "workspace=\"olujerry\",\n",
    ")\n",
    "experiment.log_figure(figure_name=\"Matplotlib Viz\", figure=fig1)\n",
    "experiment.log_figure(figure_name= \"Seaborn Viz\", figure=fig2)"
   ]
  },
  {
   "cell_type": "code",
   "execution_count": null,
   "id": "bee65df7",
   "metadata": {},
   "outputs": [],
   "source": []
  },
  {
   "cell_type": "code",
   "execution_count": null,
   "id": "378d35f0",
   "metadata": {},
   "outputs": [],
   "source": []
  },
  {
   "cell_type": "markdown",
   "id": "9dbf3191",
   "metadata": {},
   "source": [
    "\\begin{equation}\n",
    "s_p = \\sqrt{\\frac{(n_0 - 1)s^2_0 + (n_1 - 1)s^2_1}{n_0 + n_1 - 2}}\n",
    "\\end{equation}"
   ]
  },
  {
   "cell_type": "code",
   "execution_count": null,
   "id": "796efaa0",
   "metadata": {},
   "outputs": [],
   "source": []
  },
  {
   "cell_type": "code",
   "execution_count": null,
   "id": "39a78c12",
   "metadata": {},
   "outputs": [],
   "source": []
  },
  {
   "cell_type": "code",
   "execution_count": null,
   "id": "b1ff3c07",
   "metadata": {},
   "outputs": [],
   "source": []
  },
  {
   "cell_type": "markdown",
   "id": "1a5fbd3f",
   "metadata": {},
   "source": []
  },
  {
   "cell_type": "markdown",
   "id": "76347c94",
   "metadata": {},
   "source": [
    "$$F_1 score = 2 * \\frac{Precision * Recall}{Precision + Recall}= \\frac{2TP}{2TP + FP + FN}$$\n"
   ]
  },
  {
   "cell_type": "markdown",
   "id": "aed72053",
   "metadata": {},
   "source": []
  },
  {
   "cell_type": "code",
   "execution_count": null,
   "id": "90e73f22",
   "metadata": {},
   "outputs": [],
   "source": []
  }
 ],
 "metadata": {
  "kernelspec": {
   "display_name": "Python 3",
   "language": "python",
   "name": "python3"
  },
  "language_info": {
   "codemirror_mode": {
    "name": "ipython",
    "version": 3
   },
   "file_extension": ".py",
   "mimetype": "text/x-python",
   "name": "python",
   "nbconvert_exporter": "python",
   "pygments_lexer": "ipython3",
   "version": "3.8.8"
  }
 },
 "nbformat": 4,
 "nbformat_minor": 5
}
