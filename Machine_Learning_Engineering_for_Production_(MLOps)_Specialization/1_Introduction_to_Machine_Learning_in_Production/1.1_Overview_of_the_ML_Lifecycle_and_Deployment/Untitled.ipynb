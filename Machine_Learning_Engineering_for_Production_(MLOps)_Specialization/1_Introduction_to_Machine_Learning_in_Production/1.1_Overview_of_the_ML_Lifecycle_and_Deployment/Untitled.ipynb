{
 "cells": [
  {
   "cell_type": "markdown",
   "id": "3e809e8f",
   "metadata": {},
   "source": [
    "$DoF_{total} = DoF_{LRmodel} + DoF_{LRmodel\\_error}$"
   ]
  },
  {
   "cell_type": "code",
   "execution_count": 4,
   "id": "d1000f20",
   "metadata": {},
   "outputs": [],
   "source": [
    "import pandas as pd"
   ]
  },
  {
   "cell_type": "code",
   "execution_count": 9,
   "id": "a8f76a4d",
   "metadata": {},
   "outputs": [],
   "source": [
    "data = {'Name': ['Tom', 'Jack', 'Nick', 'Juli'],\n",
    "        'Marks': [99, 98, 95, 90],\n",
    "        'Country': ['India', 'US', 'Germany', 'Bolivia'],\n",
    "        'Weight': [85, 155, 220, 120],\n",
    "        'Age' : [10, 16, 33, 21]}"
   ]
  },
  {
   "cell_type": "code",
   "execution_count": 10,
   "id": "1433e487",
   "metadata": {},
   "outputs": [],
   "source": [
    "df = pd.DataFrame(data)"
   ]
  },
  {
   "cell_type": "code",
   "execution_count": 11,
   "id": "449a29bf",
   "metadata": {},
   "outputs": [
    {
     "data": {
      "text/html": [
       "<div>\n",
       "<style scoped>\n",
       "    .dataframe tbody tr th:only-of-type {\n",
       "        vertical-align: middle;\n",
       "    }\n",
       "\n",
       "    .dataframe tbody tr th {\n",
       "        vertical-align: top;\n",
       "    }\n",
       "\n",
       "    .dataframe thead th {\n",
       "        text-align: right;\n",
       "    }\n",
       "</style>\n",
       "<table border=\"1\" class=\"dataframe\">\n",
       "  <thead>\n",
       "    <tr style=\"text-align: right;\">\n",
       "      <th></th>\n",
       "      <th>Name</th>\n",
       "      <th>Marks</th>\n",
       "      <th>Country</th>\n",
       "      <th>Weight</th>\n",
       "      <th>Age</th>\n",
       "    </tr>\n",
       "  </thead>\n",
       "  <tbody>\n",
       "    <tr>\n",
       "      <th>0</th>\n",
       "      <td>Tom</td>\n",
       "      <td>99</td>\n",
       "      <td>India</td>\n",
       "      <td>85</td>\n",
       "      <td>10</td>\n",
       "    </tr>\n",
       "    <tr>\n",
       "      <th>1</th>\n",
       "      <td>Jack</td>\n",
       "      <td>98</td>\n",
       "      <td>US</td>\n",
       "      <td>155</td>\n",
       "      <td>16</td>\n",
       "    </tr>\n",
       "    <tr>\n",
       "      <th>2</th>\n",
       "      <td>Nick</td>\n",
       "      <td>95</td>\n",
       "      <td>Germany</td>\n",
       "      <td>220</td>\n",
       "      <td>33</td>\n",
       "    </tr>\n",
       "    <tr>\n",
       "      <th>3</th>\n",
       "      <td>Juli</td>\n",
       "      <td>90</td>\n",
       "      <td>Bolivia</td>\n",
       "      <td>120</td>\n",
       "      <td>21</td>\n",
       "    </tr>\n",
       "  </tbody>\n",
       "</table>\n",
       "</div>"
      ],
      "text/plain": [
       "   Name  Marks  Country  Weight  Age\n",
       "0   Tom     99    India      85   10\n",
       "1  Jack     98       US     155   16\n",
       "2  Nick     95  Germany     220   33\n",
       "3  Juli     90  Bolivia     120   21"
      ]
     },
     "execution_count": 11,
     "metadata": {},
     "output_type": "execute_result"
    }
   ],
   "source": [
    "df"
   ]
  },
  {
   "cell_type": "code",
   "execution_count": 12,
   "id": "ae975486",
   "metadata": {},
   "outputs": [],
   "source": [
    "Q1 = df.Age.quantile(0.25)\n",
    "Q3 = df.Age.quantile(0.75)"
   ]
  },
  {
   "cell_type": "code",
   "execution_count": 15,
   "id": "624b6c21",
   "metadata": {},
   "outputs": [
    {
     "data": {
      "text/plain": [
       "14.5"
      ]
     },
     "execution_count": 15,
     "metadata": {},
     "output_type": "execute_result"
    }
   ],
   "source": [
    "Q1"
   ]
  },
  {
   "cell_type": "code",
   "execution_count": 16,
   "id": "dff70554",
   "metadata": {},
   "outputs": [
    {
     "data": {
      "text/plain": [
       "24.0"
      ]
     },
     "execution_count": 16,
     "metadata": {},
     "output_type": "execute_result"
    }
   ],
   "source": [
    "Q3"
   ]
  },
  {
   "cell_type": "code",
   "execution_count": null,
   "id": "4ccec004",
   "metadata": {},
   "outputs": [],
   "source": []
  },
  {
   "cell_type": "code",
   "execution_count": null,
   "id": "0c5ba0a4",
   "metadata": {},
   "outputs": [],
   "source": []
  },
  {
   "cell_type": "code",
   "execution_count": null,
   "id": "be8641af",
   "metadata": {},
   "outputs": [],
   "source": []
  },
  {
   "cell_type": "markdown",
   "id": "c89a01a7",
   "metadata": {},
   "source": [
    "(y_true[i] - y_pred[i])²\n",
    "228 - 227 = 1² = 1\n",
    "223 - 222 = 1² = 1\n",
    "267 - 263 = 4² = 16\n",
    "212 - 212 = 0² = 0\n",
    "Σ(y_true[i] - y_pred[i])²\n",
    "1+1+16+0 = 18\n",
    "Σ(y_true[i] - y_pred[i])² / N\n",
    "18 / 4 = 4.5"
   ]
  },
  {
   "cell_type": "markdown",
   "id": "52d42659",
   "metadata": {},
   "source": [
    "# $\\frac{Σ\\ (y\\_true[i]\\ -\\ y\\_pred[i])^2}{N}$\n",
    "\n",
    "$(y\\_true[i]\\ -\\ y\\_pred[i])^2$\n",
    "\n",
    "$228\\ -\\ 227\\ =\\ 1^2\\ =\\ 1$\n",
    "\n",
    "$223\\ -\\ 222\\ =\\ 1^2\\ =\\ 1$\n",
    "\n",
    "$267\\ -\\ 263\\ =\\ 4^2\\ =\\ 16$\n",
    "\n",
    "$212\\ -\\ 212\\ =\\ 0^2\\ =\\ 0$\n",
    "\n",
    "$numerator\\ =\\ 1\\ +\\ 1\\ +\\ 16\\ +\\ 0\\ =\\ 18$\n",
    "\n",
    "$\\frac{18}{4}\\ =\\ 4.5$"
   ]
  },
  {
   "cell_type": "code",
   "execution_count": null,
   "id": "f8ba60d2",
   "metadata": {},
   "outputs": [],
   "source": []
  },
  {
   "cell_type": "code",
   "execution_count": null,
   "id": "f70f4760",
   "metadata": {},
   "outputs": [],
   "source": []
  }
 ],
 "metadata": {
  "kernelspec": {
   "display_name": "Python 3",
   "language": "python",
   "name": "python3"
  },
  "language_info": {
   "codemirror_mode": {
    "name": "ipython",
    "version": 3
   },
   "file_extension": ".py",
   "mimetype": "text/x-python",
   "name": "python",
   "nbconvert_exporter": "python",
   "pygments_lexer": "ipython3",
   "version": "3.8.8"
  }
 },
 "nbformat": 4,
 "nbformat_minor": 5
}
