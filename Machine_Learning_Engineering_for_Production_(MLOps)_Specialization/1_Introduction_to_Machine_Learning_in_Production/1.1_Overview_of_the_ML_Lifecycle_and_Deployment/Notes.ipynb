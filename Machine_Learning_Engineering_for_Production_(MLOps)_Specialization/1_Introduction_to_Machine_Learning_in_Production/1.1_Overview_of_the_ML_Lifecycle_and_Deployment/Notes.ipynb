{
 "cells": [
  {
   "cell_type": "markdown",
   "id": "80bc89a4",
   "metadata": {},
   "source": [
    "# Notes"
   ]
  },
  {
   "cell_type": "markdown",
   "id": "50219ba9",
   "metadata": {},
   "source": [
    "- You can look at Production Machine Learning as both Machine Learning itself, and the knowledge and skils required in modern Software Development\n",
    "- If you're working on a Machine Learning team in industry, you really need expertise in both Machine Learning and Software to be successful. This is because your team will not just be producing a single result, you'll be developing a product or service that will operate continuously and may be a mission critical part of your company's work\n",
    "- Oftentimes the most challenging aspects of building machine learning systems turn out to be the things you least expected, like deployment. It's all very well being able to build a model, but getting that into people's hands and seeing how they use it can be very eye-opening\n",
    "\n",
    "<img src='img/1.png' width=\"900\" height=\"450\" align=\"center\"/>\n",
    "\n",
    "<img src='img/2.png' width=\"600\" height=\"300\" align=\"center\"/>\n",
    "\n",
    "\n",
    "### The Machine Learning Project Lifecycle\n",
    "- **Edge device:** A device that is living inside the factory that is manufacturing these smart phones and that edge device will have a piece of inspection software\n",
    "- **Inspection software:** Piece of software whose job it is to take a picture of the phone to see if there is a scratch, and then make a decision on whether this phone is acceptable or not.\n",
    "- The above is called **Automated Visual Defect Inspection**\n",
    "\n",
    "<img src='img/3.png' width=\"600\" height=\"300\" align=\"center\"/>"
   ]
  },
  {
   "cell_type": "markdown",
   "id": "7a8d2c11",
   "metadata": {},
   "source": []
  },
  {
   "cell_type": "markdown",
   "id": "ef28c013",
   "metadata": {},
   "source": []
  },
  {
   "cell_type": "markdown",
   "id": "83e2f63d",
   "metadata": {},
   "source": []
  },
  {
   "cell_type": "markdown",
   "id": "c3364894",
   "metadata": {},
   "source": []
  },
  {
   "cell_type": "markdown",
   "id": "9244bab1",
   "metadata": {},
   "source": []
  },
  {
   "cell_type": "markdown",
   "id": "c7bfeddd",
   "metadata": {},
   "source": []
  },
  {
   "cell_type": "markdown",
   "id": "0b27f040",
   "metadata": {},
   "source": []
  },
  {
   "cell_type": "markdown",
   "id": "2de444ee",
   "metadata": {},
   "source": []
  },
  {
   "cell_type": "markdown",
   "id": "8c44902b",
   "metadata": {},
   "source": []
  },
  {
   "cell_type": "markdown",
   "id": "b75887c8",
   "metadata": {},
   "source": []
  },
  {
   "cell_type": "markdown",
   "id": "a7832b4b",
   "metadata": {},
   "source": []
  },
  {
   "cell_type": "markdown",
   "id": "2cbc1c51",
   "metadata": {},
   "source": [
    "<img src='img/x.png' width=\"600\" height=\"300\" align=\"center\"/>"
   ]
  }
 ],
 "metadata": {
  "kernelspec": {
   "display_name": "Python 3",
   "language": "python",
   "name": "python3"
  },
  "language_info": {
   "codemirror_mode": {
    "name": "ipython",
    "version": 3
   },
   "file_extension": ".py",
   "mimetype": "text/x-python",
   "name": "python",
   "nbconvert_exporter": "python",
   "pygments_lexer": "ipython3",
   "version": "3.8.8"
  }
 },
 "nbformat": 4,
 "nbformat_minor": 5
}
