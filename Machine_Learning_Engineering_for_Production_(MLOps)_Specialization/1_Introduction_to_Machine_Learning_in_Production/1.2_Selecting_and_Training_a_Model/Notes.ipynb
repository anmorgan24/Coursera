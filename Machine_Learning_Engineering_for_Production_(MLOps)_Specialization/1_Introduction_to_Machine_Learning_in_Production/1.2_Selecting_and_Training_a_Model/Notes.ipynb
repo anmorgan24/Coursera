{
 "cells": [
  {
   "cell_type": "markdown",
   "id": "016bf241",
   "metadata": {},
   "source": [
    "# Selecting and Training a Model\n",
    "- Some best practice for building a machine learning model that is worthy of a production deployment\n",
    "- Model-centric AI development vs Data-centric AI development\n",
    "\n",
    "### Key Challenges\n",
    "AI system = Code (algorithm/model) + Data\n",
    "- A lot of times it will be more efficient to spend more of your time improving the data because the data usually has to be much more customized to your problem \n",
    "- When building a model, there are three key milestones that most models should aspire to accomplish:\n",
    "    - 1. Doing well on training set (usually measured by average training error).\n",
    "    - 2. Doing well on dev/test sets.\n",
    "    - 3. Doing well on business metrics/project goals.\n",
    "    \n",
    "### Why low average error isn't good enough\n",
    "#### Performance on disproportionately important examples\n",
    "- Web search example:\n",
    "    - **Informational and transactional queries:**\n",
    "        - \"Apple pie,\" \"Wireless data plan,\" \"Latest movies,\" \"Diwali festival.\"\n",
    "        - For informational and transactional queries, a web search engine wants to return the most relevant results, but users are willing to forgive (maybe) ranking the best result as number 2 or 3\n",
    "    - **Navigational queries:**\n",
    "        - \"Stanford,\" \"Reddit,\" \"YouTube.\"\n",
    "        - Here the user has a very clear desire to go to a particular place\n",
    "        - When a user has a very clear navigational intent, they will tend to be very unforgiving if the websearch engine does anything other than return the exact result\n",
    "        - A web search engines that doesn't return the best results will very quickly lose the trust of its users.\n",
    "        - So, navigational queries in this context are disproportionately important set of examples\n",
    "- The problem is that average test set accuracy tends to weight all examples equally, whereas in many cases some scenarios are disproportionately important. \n",
    "\n",
    "#### Performance on key slices of the dataset\n",
    "- Example: ML for loan approval \n",
    "    - Make sure not to discriminate by ethnicity, gender, location, language, or other protected attributes"
   ]
  },
  {
   "cell_type": "code",
   "execution_count": null,
   "id": "417b312c",
   "metadata": {},
   "outputs": [],
   "source": []
  },
  {
   "cell_type": "code",
   "execution_count": null,
   "id": "bb694430",
   "metadata": {},
   "outputs": [],
   "source": []
  },
  {
   "cell_type": "code",
   "execution_count": null,
   "id": "11786906",
   "metadata": {},
   "outputs": [],
   "source": []
  },
  {
   "cell_type": "code",
   "execution_count": null,
   "id": "471a36d1",
   "metadata": {},
   "outputs": [],
   "source": []
  },
  {
   "cell_type": "code",
   "execution_count": null,
   "id": "67a14609",
   "metadata": {},
   "outputs": [],
   "source": []
  },
  {
   "cell_type": "code",
   "execution_count": null,
   "id": "55a81aa8",
   "metadata": {},
   "outputs": [],
   "source": []
  },
  {
   "cell_type": "code",
   "execution_count": null,
   "id": "de1fe8c1",
   "metadata": {},
   "outputs": [],
   "source": []
  },
  {
   "cell_type": "markdown",
   "id": "8a6127eb",
   "metadata": {},
   "source": [
    "<img src='img/x.png' width=\"600\" height=\"300\" align=\"center\"/>"
   ]
  }
 ],
 "metadata": {
  "kernelspec": {
   "display_name": "Python 3",
   "language": "python",
   "name": "python3"
  },
  "language_info": {
   "codemirror_mode": {
    "name": "ipython",
    "version": 3
   },
   "file_extension": ".py",
   "mimetype": "text/x-python",
   "name": "python",
   "nbconvert_exporter": "python",
   "pygments_lexer": "ipython3",
   "version": "3.8.8"
  }
 },
 "nbformat": 4,
 "nbformat_minor": 5
}
