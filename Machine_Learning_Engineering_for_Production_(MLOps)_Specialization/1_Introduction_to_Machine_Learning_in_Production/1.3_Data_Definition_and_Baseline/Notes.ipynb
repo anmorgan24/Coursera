{
 "cells": [
  {
   "cell_type": "markdown",
   "id": "645a0f95",
   "metadata": {},
   "source": [
    "# Data Definition and Baseline\n",
    "This week is all about working with different data types and ensuring label consistency for classification problems. This leads to establishing a performance baseline for your model and discussing strategies to improve it given your time and resources constraints."
   ]
  },
  {
   "cell_type": "markdown",
   "id": "003b689b",
   "metadata": {},
   "source": [
    "### Why is data definition hard?\n",
    "   - 1. Define data and establish baseline\n",
    "   - 2. Label and organize data\n",
    "   \n",
    "# 1. Define Data and Establish Baseline"
   ]
  },
  {
   "cell_type": "markdown",
   "id": "53ff0cdb",
   "metadata": {},
   "source": [
    "## Experiment Tracking\n",
    "- Rather than worrying too much about exactly which experiment tracking framework to use, the number one thing to take away from this section is, do try to have some system, even if it's just a text file or just a spreadsheet for keeping track of your experiments, and include as much information as is convenient to inglude\n",
    "- **What to track:**\n",
    "    - Algorithm/code versioning\n",
    "    - Dataset used\n",
    "    - Hyperparameters\n",
    "    - Results\n",
    "- **Tracking tools:**\n",
    "    - Text files (does not scale well)\n",
    "    - Spreadsheets (scale much further, especially shared spreadsheets)\n",
    "    - Experiment tracking system\n",
    "- **Desirable features:**\n",
    "    - Information needed to replicate results?\n",
    "        - does your learning algorithm pull data off the internet? This can make experiments less reproducible\n",
    "    - Experiment results, ideally with summary metrics/analysis\n",
    "    - Perhaps also: Resource monitoring, visualization, model error analysis\n",
    "- The space of experiment tracking systems is still evolving rapidly and so there's a growing set of tools out there. But some examples include:\n",
    "    - W and B\n",
    "    - ***Comet***\n",
    "    - MLFlow\n",
    "    - Sage Maker Studio\n",
    "    - Landing.AI $\\rightarrow$ focuses on computer vision and manufacturing applications\n",
    "\n",
    "### From big data to good data\n",
    "- Try to ensure consistently high-quality data in all phases of the ML project lifecycle.\n",
    "- Good data:\n",
    "    - Covers important cases (good coverage of inputs `x`)\n",
    "    - Is defined consistently (definition of labels `y` is unambiguous)\n",
    "    - Has timely feedback from production data (distribution covers data drift and concept drift)\n",
    "    - Is sized appropriately"
   ]
  },
  {
   "cell_type": "markdown",
   "id": "c1d00211",
   "metadata": {},
   "source": [
    "### More label ambiguity examples\n",
    "- A common application in many large companies is user ID merge\n",
    "    - **User ID merge:** When you have multiple data records that you think correspond to the same person and you want to merge these user records together.\n",
    "    - One scenario where this commonly occurs is when one company purchase or merges with another company and a user has accounts with each (often with not-identical information in each)\n",
    "    - One approach to the User ID merge problem is to take a supervised ML algorithm that takes as input two user data records and tries to output either one or zero based on whether it thinks these two are actually the sme user\n",
    "- Other examples with ambiguous ground truths: \n",
    "    - Is predicting if an account is a spam/fake/bot account\n",
    "    - Is an online purchase fraudulent?\n",
    "    - A job/resume website trying to predict whether a user is actively looking for a job or not\n",
    "    - Structuring text transcription\n",
    "\n",
    "\n",
    "#### Data definition questions\n",
    "- When defining the data for your learning algorithm, here are some important questions:\n",
    "    - What is the input, `x`?\n",
    "        - Lighting? Contrast? Resolution?\n",
    "        - What features need to be included?\n",
    "    - What is the target label, `y`?\n",
    "        - How can we ensure labelers give consistent labels?"
   ]
  },
  {
   "cell_type": "markdown",
   "id": "78f90853",
   "metadata": {},
   "source": [
    "### Major Types of Data Problems\n",
    "- The best practices for organizing data for one type of machine learning project, can be quite different than the best practices for totally different types.\n",
    "- Below, the definition of \"small\" and \"large\" datasets is a bit arbitrary and may vary for your own projects:\n",
    "\n",
    "<img src='img/1.png' width=\"600\" height=\"300\" align=\"center\"/>\n",
    "\n",
    "- **For a lot of unstructured learning problems:**\n",
    "     - **Humans** can help with labeling\n",
    "     - Data augmentation, such as synthesizing your images or synthesizing your audio, can help.\n",
    "- **For structured learning problems:**\n",
    "    - Harder to obtain more data\n",
    "    - Harder to use data augmentation\n",
    "- **For relatively small datasets:**\n",
    "    - Having clean and consistent labels are ritical \n",
    "- **For relatively large datasets:**\n",
    "    - Emphasis on data process\n",
    "    \n",
    "### Unstructured vs. structured data\n",
    "#### Unstructured data\n",
    "   - May or may not have huge collection of unlabeled examples `x`.\n",
    "   - Humans can label more data.\n",
    "   - Data augmentation more likely to be helpful.\n",
    "#### Structured data\n",
    "   - May be more difficult to obtain more data.\n",
    "   - Human labeling may not be possible (with some exceptions). \n",
    "   \n",
    "### Small data vs. big data\n",
    "- (using a slightly arbitrary threshold of whether you have more or less than 10,000 training examples\n",
    "#### Small data\n",
    "   - Clean labels are critical.\n",
    "   - Can manually look through dataset and fix labels.\n",
    "   - Can get all the labelers to talk to each other. \n",
    "#### Big data\n",
    "   - Emphasis on data process.\n",
    "\n",
    "\n",
    "- This classification (of unstructured vs. strucured and small vs big data) can be helpful in predicting not just whether data processes generalize from one to another problem, but also whether other machine learning ideas generalize from one to another\n",
    "- Tip: If you are working on a problem from one of the four quadrants above, then usually, advice from someone that has worked on projects in the same quadrant will probably be more useful/applicable than advice from someone that's worked in a different quadrant."
   ]
  },
  {
   "cell_type": "markdown",
   "id": "c2f2f8d2",
   "metadata": {},
   "source": [
    "## Small data and label consistency\n",
    "- When you have a small dataset, it can be hard to fit a function confidently to the data\n",
    "- Because a lot of AI practices have been originally established by large companies with massive datasets and data warehouses, the practices for how to deal with small datasets have not been emphasized as would be needed to tackle problems where you don't have a hundred million examples, but only a thousand (or fewer).\n",
    "- However, if you have a small dataset and also clean and consistent labels, you can much more confidently fit a function to your (small) dataset. \n",
    "\n",
    "#### Big data problems can have small data challenges too\n",
    "- Problems with a large dataset but there's a **long tail of rare events** in the input, will have small data challenges too. Examples:\n",
    "    - Web search\n",
    "    - Self-driving cars\n",
    "    - Product recommendation systems\n",
    "    "
   ]
  },
  {
   "cell_type": "markdown",
   "id": "2e40addd",
   "metadata": {},
   "source": [
    "### Improving label consistency\n",
    "- Have multiple labelers label the same example\n",
    "- Have the same labeler label the same example multiple times\n",
    "- When there is disagreement, have MLE, subject matter expert (SME), and/or labelers discuss definition of `y` to reach agreement.\n",
    "- If labelers believe that `x` doesn't contain enough information, consider changing `x`.\n",
    "- Iterate until it is hard to significantly increase agreement.\n",
    "\n",
    "#### Examples\n",
    "- Standardize labels\n",
    "- Merge classes \n",
    "    - \"deep scratch\" + \"shallow scratch\" = \"scratches\"\n",
    "- Have a class/label to capture uncertainty\n",
    "    - Defect: 0 or 1\n",
    "    - Alternatice: `0`, `Borderline`, `1`\n",
    "    - Unintelligible audio: `[unintelligible]`\n",
    "    \n",
    "#### Small data vs. big data (unstructured data)\n",
    "   - **Small data:**\n",
    "       - Usually small number of labelers\n",
    "       - Can ask labelers to dicuss specific labels\n",
    "   - **Big data:**\n",
    "       - Get to consistent definition with a small group\n",
    "       - Then send labeling instructions to labelers\n",
    "       - Can consider having multiple labelers label every example using voting or consensus labels to increase accuracy. $\\Leftarrow$ Can be over-used, should be used as a last resort\n",
    "    "
   ]
  },
  {
   "cell_type": "markdown",
   "id": "501c9af3",
   "metadata": {},
   "source": [
    "### Human Level Performance (HLP)\n",
    "- HLP can provide a helpful baseline performance (in terms of what might be possible, especially with unstructured data), but it is also sometimes misused. \n",
    "#### Why measure HLP?\n",
    "- Estimate Bayes error/irreducible error to help with error analysis and prioritization. \n",
    "- One question that is not often asked is: What exactly is this \"Ground Truth Label\"? $\\Rightarrow$ Are we really measuring what is possible, or are we measuring how well two people agree with eachother (since ground truth is often also determined by a human)\n",
    "- In academia, HLP is often used as a respectable benchmark, but:\n",
    "    - this is partially because it has proven a tried and true formular for establishing the academic significance of a piece of work.\n",
    "- However, businesses need systems that do more than just well of average test set accuracy.\n",
    "\n",
    "#### The problem with HLP\n",
    "- The problem with using "
   ]
  },
  {
   "cell_type": "markdown",
   "id": "cd3aa641",
   "metadata": {},
   "source": []
  },
  {
   "cell_type": "code",
   "execution_count": null,
   "id": "3d80fd3f",
   "metadata": {},
   "outputs": [],
   "source": []
  },
  {
   "cell_type": "code",
   "execution_count": null,
   "id": "4d7be1df",
   "metadata": {},
   "outputs": [],
   "source": []
  },
  {
   "cell_type": "code",
   "execution_count": null,
   "id": "e89bc9f0",
   "metadata": {},
   "outputs": [],
   "source": []
  },
  {
   "cell_type": "code",
   "execution_count": null,
   "id": "45b4cc8a",
   "metadata": {},
   "outputs": [],
   "source": []
  },
  {
   "cell_type": "code",
   "execution_count": null,
   "id": "39af3b49",
   "metadata": {},
   "outputs": [],
   "source": []
  },
  {
   "cell_type": "code",
   "execution_count": null,
   "id": "66a9bc45",
   "metadata": {},
   "outputs": [],
   "source": []
  },
  {
   "cell_type": "code",
   "execution_count": null,
   "id": "4a10a4c9",
   "metadata": {},
   "outputs": [],
   "source": []
  }
 ],
 "metadata": {
  "kernelspec": {
   "display_name": "Python 3",
   "language": "python",
   "name": "python3"
  },
  "language_info": {
   "codemirror_mode": {
    "name": "ipython",
    "version": 3
   },
   "file_extension": ".py",
   "mimetype": "text/x-python",
   "name": "python",
   "nbconvert_exporter": "python",
   "pygments_lexer": "ipython3",
   "version": "3.8.8"
  }
 },
 "nbformat": 4,
 "nbformat_minor": 5
}
