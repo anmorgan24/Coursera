{
 "cells": [
  {
   "cell_type": "markdown",
   "id": "d35fa1a6",
   "metadata": {},
   "source": [
    "# Collecting, Labeling, and Validating Data\n",
    "Instructor: Robert Crowe, TensorFlow dev engineer at Google"
   ]
  },
  {
   "cell_type": "markdown",
   "id": "9fceba4b",
   "metadata": {},
   "source": [
    "## Introduction to MLE in Production\n",
    "\n",
    "#### The importance of data\n",
    "\"Data is the hardest part of ML and the most imporant piece to get right... Broken data is the most common cause of problems in production ML systems\"\n",
    "- Scaling Machine Learning at Uber with Michelangelo, Uber\n",
    "\n",
    "\n",
    "\"No other activity in the machine learning life cycle has a higher return on investment than improving the data a model has access to.\"\n",
    "- Feast: Bridging ML Models and Data, Gojek\n",
    "\n",
    "#### Overview\n",
    "- Google has found that in ML, the model is typically about 5% of the code required to put an ML application into production \n",
    "\n",
    "<img src='img/1.png' width=\"600\" height=\"300\" align=\"center\"/>\n",
    "\n",
    "<img src='img/2.png' width=\"600\" height=\"300\" align=\"center\"/>"
   ]
  },
  {
   "cell_type": "markdown",
   "id": "4bbd1a70",
   "metadata": {},
   "source": [
    "Production machine learning = Machine learning development + Modern software development\n",
    "\n",
    "#### Managing the entire life cycle of data\n",
    "- Labeling\n",
    "- Feature space coverage\n",
    "- Minimal dimensionality\n",
    "- Maximum predictive data\n",
    "- Fairness\n",
    "- Rare conditions\n",
    "\n",
    "#### Modern software development\n",
    "- Accounts for:\n",
    "    - Scalability\n",
    "    - Extensibility\n",
    "    - Configuration\n",
    "    - Consistency & reproducibility\n",
    "    - Safety & security\n",
    "    - Modularity\n",
    "    - Testability\n",
    "    - Monitoring (health & performance)\n",
    "    - Industry best practices\n",
    "    \n",
    "#### Challenges in production grade ML\n",
    "- Build integrated ML systems\n",
    "- Continuously operate it in production\n",
    "- Handle continuously changing data\n",
    "- Optimize compute resource costs"
   ]
  },
  {
   "cell_type": "markdown",
   "id": "2bf7dbf5",
   "metadata": {},
   "source": [
    "## Collecting Data"
   ]
  },
  {
   "cell_type": "code",
   "execution_count": null,
   "id": "8fb1f89f",
   "metadata": {},
   "outputs": [],
   "source": []
  }
 ],
 "metadata": {
  "kernelspec": {
   "display_name": "Python 3",
   "language": "python",
   "name": "python3"
  },
  "language_info": {
   "codemirror_mode": {
    "name": "ipython",
    "version": 3
   },
   "file_extension": ".py",
   "mimetype": "text/x-python",
   "name": "python",
   "nbconvert_exporter": "python",
   "pygments_lexer": "ipython3",
   "version": "3.8.8"
  }
 },
 "nbformat": 4,
 "nbformat_minor": 5
}
