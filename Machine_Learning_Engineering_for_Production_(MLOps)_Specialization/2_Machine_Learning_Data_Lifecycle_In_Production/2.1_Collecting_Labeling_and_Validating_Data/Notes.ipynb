{
 "cells": [
  {
   "cell_type": "markdown",
   "id": "d35fa1a6",
   "metadata": {},
   "source": [
    "# Collecting, Labeling, and Validating Data\n",
    "Instructor: Robert Crowe, TensorFlow dev engineer at Google"
   ]
  },
  {
   "cell_type": "markdown",
   "id": "9fceba4b",
   "metadata": {},
   "source": [
    "## Introduction to MLE in Production\n",
    "\n",
    "#### The importance of data\n",
    "\"Data is the hardest part of ML and the most imporant piece to get right... Broken data is the most common cause of problems in production ML systems\"\n",
    "- Scaling Machine Learning at Uber with Michelangelo, Uber\n",
    "\n",
    "\n",
    "\"No other activity in the machine learning life cycle has a higher return on investment than improving the data a model has access to.\"\n",
    "- Feast: Bridging ML Models and Data, Gojek\n",
    "\n",
    "#### Overview\n",
    "- Google has found that in ML, the model is typically about 5% of the code required to put an ML application into production \n",
    "\n",
    "<img src='img/1.png' width=\"600\" height=\"300\" align=\"center\"/>\n",
    "\n",
    "<img src='img/2.png' width=\"600\" height=\"300\" align=\"center\"/>"
   ]
  },
  {
   "cell_type": "markdown",
   "id": "4bbd1a70",
   "metadata": {},
   "source": [
    "Production machine learning = Machine learning development + Modern software development\n",
    "\n",
    "#### Managing the entire life cycle of data\n",
    "- Labeling\n",
    "- Feature space coverage\n",
    "- Minimal dimensionality\n",
    "- Maximum predictive data\n",
    "- Fairness\n",
    "- Rare conditions\n",
    "\n",
    "#### Modern software development\n",
    "- Accounts for:\n",
    "    - Scalability\n",
    "    - Extensibility\n",
    "    - Configuration\n",
    "    - Consistency & reproducibility\n",
    "    - Safety & security\n",
    "    - Modularity\n",
    "    - Testability\n",
    "    - Monitoring (health & performance)\n",
    "    - Industry best practices\n",
    "    \n",
    "#### Challenges in production grade ML\n",
    "- Build integrated ML systems\n",
    "- Continuously operate it in production\n",
    "- Handle continuously changing data\n",
    "- Optimize compute resource costs\n",
    "\n",
    "### ML Pipelines\n",
    "- **ML Pipelines:** Infrastructure for automating, monitoring, and maintaining model training and development\n",
    "\n",
    "<img src='img/3.png' width=\"800\" height=\"400\" align=\"center\"/>\n",
    "\n",
    "- ML Pipelines are almost always DAGs (Directed Acyclic Graphs)\n",
    "\n",
    "#### Directed Acyclic Graphs\n",
    "- A directed acyclic graph (DAG) is a directed graph that has no cycles\n",
    "- ML pipeline workflows are usually DAGs (although in some advanced cases they can sometimes include cycles)\n",
    "- A DAG is a collection of all the tasks you want to run, sequenced in a way that reflects their relationships and dependencies\n",
    "\n",
    "<img src='img/4.png' width=\"300\" height=\"150\" align=\"center\"/>\n",
    "\n",
    "- Orchestrators are responsible for scheduling the various components in an ML Pipeline based on dependencies defined by a DAG\n",
    "- Orchestrators help with pipeline automation \n",
    "- Examples include: Airflow, Argo, Celery, Luigi, Kubeflow\n",
    "\n",
    "### TensorFlow Extended (TFX)\n",
    "- Open source, end-to-ed platform for deploying production ML pipelines (used at Google)\n",
    "\n",
    "<img src='img/5.png' width=\"800\" height=\"400\" align=\"center\"/>\n",
    "\n",
    "- A TFX Pipeline is a sequence of scalable components that can handle large volumes of data\n",
    "- Sequence of components that are designed for scalable, high-performance machine learning tasks\n",
    "- In this course, we'll be using TFX\n",
    "\n",
    "<img src='img/6.png' width=\"800\" height=\"400\" align=\"center\"/>\n",
    "\n",
    "- TFX and production components are built on top of open source libraries such as TensorFlow Data Validation, TensorFlow Transform, which we'll also learn about, and others\n",
    "- Components (in orange) leverage these libraries and form your DAG\n",
    "- As you sequence these components and set up the dependencies between them, you create your DAG, which is your ML pipeline \n",
    "- Below, all the boxes in orange are TFX components that come with TFX when you just do a `pip install`\n",
    "\n",
    "<img src='img/7.png' width=\"800\" height=\"400\" align=\"center\"/>"
   ]
  },
  {
   "cell_type": "markdown",
   "id": "2bf7dbf5",
   "metadata": {},
   "source": [
    "## Collecting Data"
   ]
  },
  {
   "cell_type": "markdown",
   "id": "7de0fdd3",
   "metadata": {},
   "source": [
    "### Importance of Data\n",
    "- For most applications, you don't just collect data once, you're going to collect data throughout the lifetime of that application.\n",
    "- In programming language design, a **first class citizen** in a given programming language is an entity which supports all the operations generally available to other entities.\n",
    "- In ML, Data is a first-class citizen\n",
    "- Meaningful data:\n",
    "    - maximize predictive content\n",
    "    - remove non-informative data\n",
    "    - feature space coverage\n",
    "- Data collection is an important and critical step to building ML systems\n",
    "- Understand users, translate user needs into data problems\n",
    "- Ensure data coverage and high predictive signal\n",
    "- Source, store, and monitor quality data responsibly"
   ]
  },
  {
   "cell_type": "markdown",
   "id": "8f00892c",
   "metadata": {},
   "source": [
    "#### Example application: suggesting runs\n",
    "#### Key considerations\n",
    "- Data availability and collection\n",
    "    - What kind of/how much data is available?\n",
    "    - How often does the new data come in?\n",
    "    - Is it annotated?\n",
    "        - If not, how hard/expensive is it to get it labeled?\n",
    "- Translate user needs into data needs\n",
    "    - Data needed\n",
    "    - Features needed\n",
    "    - Labels needed\n",
    "    \n",
    "\n",
    "\n",
    "- Get to know your data\n",
    "    - Identify data sources\n",
    "    - Check if they are refreshed\n",
    "    - Consistency for values, units, & data types\n",
    "    - Monitor outliers and errors\n",
    "    \n",
    "#### Dataset issues\n",
    "- Inconsistent formatting\n",
    "    - Is zero \"0\", \"0.0\", or an indicator of a missing value?\n",
    "- Compounding errors from other ML models\n",
    "- Monitor data sources for system issues and outages\n",
    "\n",
    "#### Measure data effectiveness\n",
    "- Intuition about data value can be misleading\n",
    "    - Which features have predictive value and which do not?\n",
    "- **Feature engineering** helps to maximize the predictive signals\n",
    "- **Feature selection** helps to measure the predicive signals"
   ]
  },
  {
   "cell_type": "markdown",
   "id": "5b45618a",
   "metadata": {},
   "source": [
    "### Responsible Data: Security, Privacy & Fairness"
   ]
  },
  {
   "cell_type": "markdown",
   "id": "b1bca47d",
   "metadata": {},
   "source": [
    "#### Data security and privacy\n",
    "- Data collection and management is not just about your model\n",
    "    - Give user control of what data can be collected\n",
    "    - Is there a risk of inadvertently revealing user data\n",
    "- Compliance with regulations and policies (e.g., GDPR)\n",
    "\n",
    "#### User privacy\n",
    "- Protect personally identifiable information\n",
    "    - Aggregation- replace unique values with summary value\n",
    "    - Redaction- remoce some data to create less complete picture\n",
    "    \n",
    "#### How ML systems can fail users\n",
    "- Fair\n",
    "- Accountable\n",
    "- Transparent\n",
    "- Explainable\n",
    "    - Representational harm\n",
    "    - Opportunity denial\n",
    "    - Disproportionate product failure\n",
    "    - Harm by disadvantage\n",
    "    \n",
    "#### Commit to fairness\n",
    "- Make sure your models are fair\n",
    "    - Group fairness, equal accuracy\n",
    "- Bias in human labeled and/or collected data\n",
    "- ML models can amplify biases\n",
    "\n",
    "#### Reducing bias: Design fair labeling systems\n",
    "- Accurate labels are necessary for supervised learning\n",
    "- Labeling can be done by\n",
    "    - Automation  (logging or weak supervision)\n",
    "    - Humans (aka \"Raters\", often semi-supervised)\n",
    "    \n",
    "<img src='img/8.png' width=\"800\" height=\"400\" align=\"center\"/>\n",
    "\n",
    "#### Key points\n",
    "- Ensure rater pool diversity\n",
    "- Investigate rater context and incentives\n",
    "- Evaluate rater tools\n",
    "- Manage cost\n",
    "- Determine freshness requirements"
   ]
  },
  {
   "cell_type": "code",
   "execution_count": null,
   "id": "37f6445c",
   "metadata": {},
   "outputs": [],
   "source": []
  },
  {
   "cell_type": "code",
   "execution_count": null,
   "id": "0530bb93",
   "metadata": {},
   "outputs": [],
   "source": []
  },
  {
   "cell_type": "code",
   "execution_count": null,
   "id": "622e7bd1",
   "metadata": {},
   "outputs": [],
   "source": []
  },
  {
   "cell_type": "code",
   "execution_count": null,
   "id": "81d439a2",
   "metadata": {},
   "outputs": [],
   "source": []
  },
  {
   "cell_type": "code",
   "execution_count": null,
   "id": "5b2bd9b3",
   "metadata": {},
   "outputs": [],
   "source": []
  },
  {
   "cell_type": "markdown",
   "id": "3e7bd990",
   "metadata": {},
   "source": [
    "<img src='img/x.png' width=\"800\" height=\"400\" align=\"center\"/>"
   ]
  }
 ],
 "metadata": {
  "kernelspec": {
   "display_name": "Python 3",
   "language": "python",
   "name": "python3"
  },
  "language_info": {
   "codemirror_mode": {
    "name": "ipython",
    "version": 3
   },
   "file_extension": ".py",
   "mimetype": "text/x-python",
   "name": "python",
   "nbconvert_exporter": "python",
   "pygments_lexer": "ipython3",
   "version": "3.8.8"
  }
 },
 "nbformat": 4,
 "nbformat_minor": 5
}
