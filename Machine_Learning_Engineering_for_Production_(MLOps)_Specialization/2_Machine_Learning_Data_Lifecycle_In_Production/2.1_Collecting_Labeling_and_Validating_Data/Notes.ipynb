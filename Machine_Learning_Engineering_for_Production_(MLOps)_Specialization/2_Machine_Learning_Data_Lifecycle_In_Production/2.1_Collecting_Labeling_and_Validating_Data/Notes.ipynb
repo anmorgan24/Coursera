{
 "cells": [
  {
   "cell_type": "markdown",
   "id": "d35fa1a6",
   "metadata": {},
   "source": [
    "# Collecting, Labeling, and Validating Data\n",
    "Instructor: Robert Crowe, TensorFlow dev engineer at Google"
   ]
  },
  {
   "cell_type": "markdown",
   "id": "9fceba4b",
   "metadata": {},
   "source": [
    "## Introduction to MLE in Production\n",
    "\n",
    "#### The importance of data\n",
    "\"Data is the hardest part of ML and the most imporant piece to get right... Broken data is the most common cause of problems in production ML systems\"\n",
    "- Scaling Machine Learning at Uber with Michelangelo, Uber\n",
    "\n",
    "\n",
    "\"No other activity in the machine learning life cycle has a higher return on investment than improving the data a model has access to.\"\n",
    "- Feast: Bridging ML Models and Data, Gojek\n",
    "\n",
    "#### Overview\n",
    "- Google has found that in ML, the model is typically about 5% of the code required to put an ML application into production \n",
    "\n",
    "<img src='img/1.png' width=\"600\" height=\"300\" align=\"center\"/>\n",
    "\n",
    "<img src='img/2.png' width=\"600\" height=\"300\" align=\"center\"/>"
   ]
  },
  {
   "cell_type": "markdown",
   "id": "4bbd1a70",
   "metadata": {},
   "source": [
    "Production machine learning = Machine learning development + Modern software development\n",
    "\n",
    "#### Managing the entire life cycle of data\n",
    "- Labeling\n",
    "- Feature space coverage\n",
    "- Minimal dimensionality\n",
    "- Maximum predictive data\n",
    "- Fairness\n",
    "- Rare conditions\n",
    "\n",
    "#### Modern software development\n",
    "- Accounts for:\n",
    "    - Scalability\n",
    "    - Extensibility\n",
    "    - Configuration\n",
    "    - Consistency & reproducibility\n",
    "    - Safety & security\n",
    "    - Modularity\n",
    "    - Testability\n",
    "    - Monitoring (health & performance)\n",
    "    - Industry best practices\n",
    "    \n",
    "#### Challenges in production grade ML\n",
    "- Build integrated ML systems\n",
    "- Continuously operate it in production\n",
    "- Handle continuously changing data\n",
    "- Optimize compute resource costs\n",
    "\n",
    "### ML Pipelines\n",
    "- **ML Pipelines:** Infrastructure for automating, monitoring, and maintaining model training and development\n",
    "\n",
    "<img src='img/3.png' width=\"800\" height=\"400\" align=\"center\"/>\n",
    "\n",
    "- ML Pipelines are almost always DAGs (Directed Acyclic Graphs)\n",
    "\n",
    "#### Directed Acyclic Graphs\n",
    "- A directed acyclic graph (DAG) is a directed graph that has no cycles\n",
    "- ML pipeline workflows are usually DAGs (although in some advanced cases they can sometimes include cycles)\n",
    "- A DAG is a collection of all the tasks you want to run, sequenced in a way that reflects their relationships and dependencies\n",
    "\n",
    "<img src='img/4.png' width=\"300\" height=\"150\" align=\"center\"/>\n",
    "\n",
    "- Orchestrators are responsible for scheduling the various components in an ML Pipeline based on dependencies defined by a DAG\n",
    "- Orchestrators help with pipeline automation \n",
    "- Examples include: Airflow, Argo, Celery, Luigi, Kubeflow\n",
    "\n",
    "### TensorFlow Extended (TFX)\n",
    "- Open source, end-to-ed platform for deploying production ML pipelines (used at Google)\n",
    "\n",
    "<img src='img/5.png' width=\"800\" height=\"400\" align=\"center\"/>\n",
    "\n",
    "- A TFX Pipeline is a sequence of scalable components that can handle large volumes of data\n",
    "- Sequence of components that are designed for scalable, high-performance machine learning tasks\n",
    "- In this course, we'll be using TFX\n",
    "\n",
    "<img src='img/6.png' width=\"800\" height=\"400\" align=\"center\"/>\n",
    "\n",
    "- TFX and production components are built on top of open source libraries such as TensorFlow Data Validation, TensorFlow Transform, which we'll also learn about, and others\n",
    "- Components (in orange) leverage these libraries and form your DAG\n",
    "- As you sequence these components and set up the dependencies between them, you create your DAG, which is your ML pipeline \n",
    "- Below, all the boxes in orange are TFX components that come with TFX when you just do a `pip install`\n",
    "\n",
    "<img src='img/7.png' width=\"800\" height=\"400\" align=\"center\"/>"
   ]
  },
  {
   "cell_type": "markdown",
   "id": "2bf7dbf5",
   "metadata": {},
   "source": [
    "## Collecting Data"
   ]
  },
  {
   "cell_type": "code",
   "execution_count": null,
   "id": "8fb1f89f",
   "metadata": {},
   "outputs": [],
   "source": []
  },
  {
   "cell_type": "code",
   "execution_count": null,
   "id": "9fa04a99",
   "metadata": {},
   "outputs": [],
   "source": []
  },
  {
   "cell_type": "code",
   "execution_count": null,
   "id": "1a3323e7",
   "metadata": {},
   "outputs": [],
   "source": []
  },
  {
   "cell_type": "code",
   "execution_count": null,
   "id": "d47f6a2f",
   "metadata": {},
   "outputs": [],
   "source": []
  },
  {
   "cell_type": "code",
   "execution_count": null,
   "id": "bfb5e391",
   "metadata": {},
   "outputs": [],
   "source": []
  },
  {
   "cell_type": "code",
   "execution_count": null,
   "id": "b2e74d9b",
   "metadata": {},
   "outputs": [],
   "source": []
  },
  {
   "cell_type": "code",
   "execution_count": null,
   "id": "9e33fbfa",
   "metadata": {},
   "outputs": [],
   "source": []
  },
  {
   "cell_type": "code",
   "execution_count": null,
   "id": "a83664bd",
   "metadata": {},
   "outputs": [],
   "source": []
  },
  {
   "cell_type": "code",
   "execution_count": null,
   "id": "390c465f",
   "metadata": {},
   "outputs": [],
   "source": []
  },
  {
   "cell_type": "markdown",
   "id": "701decad",
   "metadata": {},
   "source": [
    "<img src='img/x.png' width=\"800\" height=\"400\" align=\"center\"/>"
   ]
  }
 ],
 "metadata": {
  "kernelspec": {
   "display_name": "Python 3",
   "language": "python",
   "name": "python3"
  },
  "language_info": {
   "codemirror_mode": {
    "name": "ipython",
    "version": 3
   },
   "file_extension": ".py",
   "mimetype": "text/x-python",
   "name": "python",
   "nbconvert_exporter": "python",
   "pygments_lexer": "ipython3",
   "version": "3.8.8"
  }
 },
 "nbformat": 4,
 "nbformat_minor": 5
}
